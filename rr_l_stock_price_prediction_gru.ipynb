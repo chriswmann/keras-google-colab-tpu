{
  "nbformat": 4,
  "nbformat_minor": 0,
  "metadata": {
    "colab": {
      "name": "rr_l_stock_price_prediction_gru.ipynb",
      "version": "0.3.2",
      "provenance": [],
      "collapsed_sections": [],
      "include_colab_link": true
    },
    "language_info": {
      "codemirror_mode": {
        "name": "ipython",
        "version": 3
      },
      "file_extension": ".py",
      "mimetype": "text/x-python",
      "name": "python",
      "nbconvert_exporter": "python",
      "pygments_lexer": "ipython3",
      "version": "3.6.5"
    },
    "kernelspec": {
      "name": "python3",
      "display_name": "Python 3"
    },
    "accelerator": "GPU"
  },
  "cells": [
    {
      "cell_type": "markdown",
      "metadata": {
        "id": "view-in-github",
        "colab_type": "text"
      },
      "source": [
        "<a href=\"https://colab.research.google.com/github/chriswmann/keras-google-colab-tpu/blob/master/rr_l_stock_price_prediction_gru.ipynb\" target=\"_parent\"><img src=\"https://colab.research.google.com/assets/colab-badge.svg\" alt=\"Open In Colab\"/></a>"
      ]
    },
    {
      "cell_type": "markdown",
      "metadata": {
        "id": "cwICH9IhKawn",
        "colab_type": "text"
      },
      "source": [
        "## Rolls-Royce Stock Price Prediction GRU.\n",
        "\n",
        "Not a serious attempt at stock price prediction but a good problem to work on with an RNN nonetheless.\n",
        "\n",
        "Very much a work in progress."
      ]
    },
    {
      "cell_type": "code",
      "metadata": {
        "_cell_guid": "b1076dfc-b9ad-4769-8c92-a6c4dae69d19",
        "_uuid": "8f2839f25d086af736a60e9eeb907d3b93b6e0e5",
        "colab_type": "code",
        "id": "-OxIK6nH8wbS",
        "outputId": "bc4b01ec-c5fe-42f1-c3c6-342ac54e2c4b",
        "colab": {
          "base_uri": "https://localhost:8080/",
          "height": 221
        }
      },
      "source": [
        "# imports\n",
        "!pip install --upgrade pip\n",
        "!pip install hyperopt\n",
        "from keras.callbacks import CSVLogger, EarlyStopping, LambdaCallback, ReduceLROnPlateau\n",
        "from keras.models import Sequential\n",
        "from keras.layers import Dense, Dropout, GRU, Reshape\n",
        "from keras.optimizers import SGD, Adam, Nadam\n",
        "from sklearn.model_selection import KFold, train_test_split\n",
        "from sklearn.metrics import mean_squared_error as mse\n",
        "from sklearn.preprocessing import MinMaxScaler\n",
        "import keras.backend as K;\n",
        "from keras.regularizers import L1L2\n",
        "import matplotlib.pyplot as plt\n",
        "import numpy as np\n",
        "import pandas as pd\n",
        "import os\n",
        "import glob\n",
        "import seaborn as sns\n",
        "import datetime as dt\n",
        "import re\n",
        "from hyperopt import hp, fmin, tpe, hp, STATUS_FAIL, STATUS_OK, Trials\n",
        "#from hyperopt.mongoexp import MongoTrials\n",
        "\n",
        "\n",
        "# suppress future warnings for now\n",
        "import warnings\n",
        "warnings.simplefilter(action='ignore', category=FutureWarning)\n",
        "\n",
        "# Definitions\n",
        "np.random.seed(39)\n",
        "pd.set_option('display.float_format', lambda x: '%.3f' % x)\n",
        "pd.options.mode.use_inf_as_na = True\n",
        "%config InlineBackend.figure_format = 'retina'\n",
        "%matplotlib inline\n",
        "color = sns.color_palette()\n",
        "sns.set()\n",
        "\n",
        "# stuff to get data\n",
        "from google.colab import drive\n",
        "from google.colab import auth\n",
        "drive.mount('/gdrive')\n",
        "dir_path = '/gdrive/My Drive/Colab Notebooks/Stock Price Prediction/data'"
      ],
      "execution_count": 1,
      "outputs": [
        {
          "output_type": "stream",
          "text": [
            "Requirement already up-to-date: pip in /usr/local/lib/python3.6/dist-packages (19.1.1)\n",
            "Requirement already satisfied: hyperopt in /usr/local/lib/python3.6/dist-packages (0.1.2)\n",
            "Requirement already satisfied: future in /usr/local/lib/python3.6/dist-packages (from hyperopt) (0.16.0)\n",
            "Requirement already satisfied: networkx in /usr/local/lib/python3.6/dist-packages (from hyperopt) (2.3)\n",
            "Requirement already satisfied: tqdm in /usr/local/lib/python3.6/dist-packages (from hyperopt) (4.28.1)\n",
            "Requirement already satisfied: scipy in /usr/local/lib/python3.6/dist-packages (from hyperopt) (1.2.1)\n",
            "Requirement already satisfied: six in /usr/local/lib/python3.6/dist-packages (from hyperopt) (1.12.0)\n",
            "Requirement already satisfied: pymongo in /usr/local/lib/python3.6/dist-packages (from hyperopt) (3.8.0)\n",
            "Requirement already satisfied: numpy in /usr/local/lib/python3.6/dist-packages (from hyperopt) (1.16.3)\n",
            "Requirement already satisfied: decorator>=4.3.0 in /usr/local/lib/python3.6/dist-packages (from networkx->hyperopt) (4.4.0)\n"
          ],
          "name": "stdout"
        },
        {
          "output_type": "stream",
          "text": [
            "Using TensorFlow backend.\n"
          ],
          "name": "stderr"
        },
        {
          "output_type": "stream",
          "text": [
            "Drive already mounted at /gdrive; to attempt to forcibly remount, call drive.mount(\"/gdrive\", force_remount=True).\n"
          ],
          "name": "stdout"
        }
      ]
    },
    {
      "cell_type": "code",
      "metadata": {
        "colab_type": "code",
        "id": "hNj--SR186HU",
        "colab": {}
      },
      "source": [
        "all_files = glob.glob(os.path.join(dir_path, '*.csv'))\n",
        "stocks = []\n",
        "fx = []\n",
        "df_generator = (pd.read_csv(f, index_col='date') for f in stocks)\n",
        "column_names = []\n",
        "with open(os.path.join(dir_path, 'RR.L_stock_data_20180831.csv'), 'r') as f:\n",
        "    columns = f.readline().split(',')[1:]\n",
        "    start_index = f.readlines()[1].split(',')[0]\n",
        "\n",
        "for f in all_files:\n",
        "    if 'stock' in f:\n",
        "        stocks.append(f)\n",
        "        ticker = f.split('/')[-1].split('_')[0]\n",
        "        for c in columns:\n",
        "            column_names.append(re.sub(r'[\\.|\\s]+','_', f'{ticker}_{c}'))\n",
        "    if 'fx' in f:\n",
        "        fx.append(f)\n",
        "\n",
        "fx_cols = '1. open,2. high,3. low,4. close'.split(',')\n",
        "dfxs_ = []\n",
        "for f in fx:\n",
        "    df_ = pd.read_csv(f,index_col=None, dtype={'date':str})\n",
        "    df_.set_index(pd.to_datetime(df_['date']), inplace=True)\n",
        "    df_.sort_index(inplace=True)\n",
        "    dfxs_.append(df_)\n",
        "    ticker = f.split('/')[-1].split('daily_')[-1].split('.')[0]\n",
        "    for c in fx_cols:\n",
        "        column_names.append(re.sub(r'[\\.|\\s]+','_', f'{ticker}_{c}'))\n",
        "\n",
        "df_fx = pd.concat(dfxs_, ignore_index=False, axis=1).drop(['date'], axis=1)\n",
        "df_stocks = pd.concat(df_generator, ignore_index=False, axis=1)\n",
        "df_stocks.index = pd.to_datetime(df_stocks.index)\n",
        "df_fx.index = pd.to_datetime(df_fx.index)\n",
        "start_fx = df_fx.index.searchsorted(dt.datetime(2000, 1, 3))\n",
        "end_fx = df_fx.index.searchsorted(dt.datetime(2018, 8, 31))\n",
        "start_stocks = df_stocks.index.searchsorted(dt.datetime(2000, 1, 3))\n",
        "end_stocks = df_stocks.index.searchsorted(dt.datetime(2018, 8, 31))\n",
        "df_stocks = df_stocks.iloc[start_stocks:end_stocks]\n",
        "df_fx = df_fx.iloc[start_fx:end_fx]\n",
        "df = pd.concat([df_fx, df_stocks], ignore_index=False, axis=1)\n",
        "df.columns = column_names\n",
        "df.index = pd.to_datetime(df.index)"
      ],
      "execution_count": 0,
      "outputs": []
    },
    {
      "cell_type": "code",
      "metadata": {
        "_uuid": "7a7241c8e756b6acbc8c3f3febd2b36ee5e8c3c3",
        "colab_type": "code",
        "id": "lROyOoyN8wbX",
        "outputId": "66573b15-9582-42de-9eac-226c5158caef",
        "colab": {
          "base_uri": "https://localhost:8080/",
          "height": 338
        }
      },
      "source": [
        "df.head()"
      ],
      "execution_count": 3,
      "outputs": [
        {
          "output_type": "execute_result",
          "data": {
            "text/html": [
              "<div>\n",
              "<style scoped>\n",
              "    .dataframe tbody tr th:only-of-type {\n",
              "        vertical-align: middle;\n",
              "    }\n",
              "\n",
              "    .dataframe tbody tr th {\n",
              "        vertical-align: top;\n",
              "    }\n",
              "\n",
              "    .dataframe thead th {\n",
              "        text-align: right;\n",
              "    }\n",
              "</style>\n",
              "<table border=\"1\" class=\"dataframe\">\n",
              "  <thead>\n",
              "    <tr style=\"text-align: right;\">\n",
              "      <th></th>\n",
              "      <th>RR_L_1_open</th>\n",
              "      <th>RR_L_2_high</th>\n",
              "      <th>RR_L_3_low</th>\n",
              "      <th>RR_L_4_close</th>\n",
              "      <th>RR_L_5_adjusted_close</th>\n",
              "      <th>RR_L_6_volume</th>\n",
              "      <th>RR_L_7_dividend_amount</th>\n",
              "      <th>RR_L_8_split_coefficient_</th>\n",
              "      <th>GE_1_open</th>\n",
              "      <th>GE_2_high</th>\n",
              "      <th>...</th>\n",
              "      <th>BA_L_7_dividend_amount</th>\n",
              "      <th>BA_L_8_split_coefficient_</th>\n",
              "      <th>GBP_USD_1_open</th>\n",
              "      <th>GBP_USD_2_high</th>\n",
              "      <th>GBP_USD_3_low</th>\n",
              "      <th>GBP_USD_4_close</th>\n",
              "      <th>EUR_USD_1_open</th>\n",
              "      <th>EUR_USD_2_high</th>\n",
              "      <th>EUR_USD_3_low</th>\n",
              "      <th>EUR_USD_4_close</th>\n",
              "    </tr>\n",
              "  </thead>\n",
              "  <tbody>\n",
              "    <tr>\n",
              "      <th>2000-01-03</th>\n",
              "      <td>nan</td>\n",
              "      <td>nan</td>\n",
              "      <td>nan</td>\n",
              "      <td>nan</td>\n",
              "      <td>nan</td>\n",
              "      <td>nan</td>\n",
              "      <td>nan</td>\n",
              "      <td>nan</td>\n",
              "      <td>214.000</td>\n",
              "      <td>214.000</td>\n",
              "      <td>...</td>\n",
              "      <td>0.000</td>\n",
              "      <td>1.000</td>\n",
              "      <td>410.000</td>\n",
              "      <td>410.000</td>\n",
              "      <td>410.000</td>\n",
              "      <td>410.000</td>\n",
              "      <td>192.131</td>\n",
              "      <td>0.000</td>\n",
              "      <td>0.000</td>\n",
              "      <td>1.000</td>\n",
              "    </tr>\n",
              "    <tr>\n",
              "      <th>2000-01-04</th>\n",
              "      <td>nan</td>\n",
              "      <td>nan</td>\n",
              "      <td>nan</td>\n",
              "      <td>nan</td>\n",
              "      <td>nan</td>\n",
              "      <td>nan</td>\n",
              "      <td>nan</td>\n",
              "      <td>nan</td>\n",
              "      <td>223.000</td>\n",
              "      <td>235.000</td>\n",
              "      <td>...</td>\n",
              "      <td>0.000</td>\n",
              "      <td>1.000</td>\n",
              "      <td>415.000</td>\n",
              "      <td>420.000</td>\n",
              "      <td>404.000</td>\n",
              "      <td>408.500</td>\n",
              "      <td>191.428</td>\n",
              "      <td>12310650.000</td>\n",
              "      <td>0.000</td>\n",
              "      <td>1.000</td>\n",
              "    </tr>\n",
              "    <tr>\n",
              "      <th>2000-01-05</th>\n",
              "      <td>nan</td>\n",
              "      <td>nan</td>\n",
              "      <td>nan</td>\n",
              "      <td>nan</td>\n",
              "      <td>nan</td>\n",
              "      <td>nan</td>\n",
              "      <td>nan</td>\n",
              "      <td>nan</td>\n",
              "      <td>222.500</td>\n",
              "      <td>228.000</td>\n",
              "      <td>...</td>\n",
              "      <td>0.000</td>\n",
              "      <td>1.000</td>\n",
              "      <td>413.000</td>\n",
              "      <td>414.000</td>\n",
              "      <td>397.000</td>\n",
              "      <td>401.250</td>\n",
              "      <td>188.030</td>\n",
              "      <td>11922681.000</td>\n",
              "      <td>0.000</td>\n",
              "      <td>1.000</td>\n",
              "    </tr>\n",
              "    <tr>\n",
              "      <th>2000-01-06</th>\n",
              "      <td>nan</td>\n",
              "      <td>nan</td>\n",
              "      <td>nan</td>\n",
              "      <td>nan</td>\n",
              "      <td>nan</td>\n",
              "      <td>nan</td>\n",
              "      <td>nan</td>\n",
              "      <td>nan</td>\n",
              "      <td>226.800</td>\n",
              "      <td>226.800</td>\n",
              "      <td>...</td>\n",
              "      <td>0.000</td>\n",
              "      <td>1.000</td>\n",
              "      <td>402.000</td>\n",
              "      <td>410.000</td>\n",
              "      <td>396.000</td>\n",
              "      <td>404.750</td>\n",
              "      <td>189.671</td>\n",
              "      <td>11947304.000</td>\n",
              "      <td>0.000</td>\n",
              "      <td>1.000</td>\n",
              "    </tr>\n",
              "    <tr>\n",
              "      <th>2000-01-07</th>\n",
              "      <td>nan</td>\n",
              "      <td>nan</td>\n",
              "      <td>nan</td>\n",
              "      <td>nan</td>\n",
              "      <td>nan</td>\n",
              "      <td>nan</td>\n",
              "      <td>nan</td>\n",
              "      <td>nan</td>\n",
              "      <td>217.000</td>\n",
              "      <td>235.000</td>\n",
              "      <td>...</td>\n",
              "      <td>0.000</td>\n",
              "      <td>1.000</td>\n",
              "      <td>403.000</td>\n",
              "      <td>419.000</td>\n",
              "      <td>383.000</td>\n",
              "      <td>388.250</td>\n",
              "      <td>181.939</td>\n",
              "      <td>10992815.000</td>\n",
              "      <td>0.000</td>\n",
              "      <td>1.000</td>\n",
              "    </tr>\n",
              "  </tbody>\n",
              "</table>\n",
              "<p>5 rows × 48 columns</p>\n",
              "</div>"
            ],
            "text/plain": [
              "            RR_L_1_open  RR_L_2_high  RR_L_3_low  RR_L_4_close  \\\n",
              "2000-01-03          nan          nan         nan           nan   \n",
              "2000-01-04          nan          nan         nan           nan   \n",
              "2000-01-05          nan          nan         nan           nan   \n",
              "2000-01-06          nan          nan         nan           nan   \n",
              "2000-01-07          nan          nan         nan           nan   \n",
              "\n",
              "            RR_L_5_adjusted_close  RR_L_6_volume  RR_L_7_dividend_amount  \\\n",
              "2000-01-03                    nan            nan                     nan   \n",
              "2000-01-04                    nan            nan                     nan   \n",
              "2000-01-05                    nan            nan                     nan   \n",
              "2000-01-06                    nan            nan                     nan   \n",
              "2000-01-07                    nan            nan                     nan   \n",
              "\n",
              "            RR_L_8_split_coefficient_  GE_1_open  GE_2_high  ...  \\\n",
              "2000-01-03                        nan    214.000    214.000  ...   \n",
              "2000-01-04                        nan    223.000    235.000  ...   \n",
              "2000-01-05                        nan    222.500    228.000  ...   \n",
              "2000-01-06                        nan    226.800    226.800  ...   \n",
              "2000-01-07                        nan    217.000    235.000  ...   \n",
              "\n",
              "            BA_L_7_dividend_amount  BA_L_8_split_coefficient_  GBP_USD_1_open  \\\n",
              "2000-01-03                   0.000                      1.000         410.000   \n",
              "2000-01-04                   0.000                      1.000         415.000   \n",
              "2000-01-05                   0.000                      1.000         413.000   \n",
              "2000-01-06                   0.000                      1.000         402.000   \n",
              "2000-01-07                   0.000                      1.000         403.000   \n",
              "\n",
              "            GBP_USD_2_high  GBP_USD_3_low  GBP_USD_4_close  EUR_USD_1_open  \\\n",
              "2000-01-03         410.000        410.000          410.000         192.131   \n",
              "2000-01-04         420.000        404.000          408.500         191.428   \n",
              "2000-01-05         414.000        397.000          401.250         188.030   \n",
              "2000-01-06         410.000        396.000          404.750         189.671   \n",
              "2000-01-07         419.000        383.000          388.250         181.939   \n",
              "\n",
              "            EUR_USD_2_high  EUR_USD_3_low  EUR_USD_4_close  \n",
              "2000-01-03           0.000          0.000            1.000  \n",
              "2000-01-04    12310650.000          0.000            1.000  \n",
              "2000-01-05    11922681.000          0.000            1.000  \n",
              "2000-01-06    11947304.000          0.000            1.000  \n",
              "2000-01-07    10992815.000          0.000            1.000  \n",
              "\n",
              "[5 rows x 48 columns]"
            ]
          },
          "metadata": {
            "tags": []
          },
          "execution_count": 3
        }
      ]
    },
    {
      "cell_type": "code",
      "metadata": {
        "_uuid": "a14de1678db1a009f70b9c0fd00e5dc4d6c2d2a8",
        "colab_type": "code",
        "id": "nMmFAllq8wbZ",
        "outputId": "dca6038b-bb2c-4105-b4f0-3ad94ca8617c",
        "colab": {
          "base_uri": "https://localhost:8080/",
          "height": 34
        }
      },
      "source": [
        "total_nans = df.isnull().sum(axis=1)[df.isnull().sum(axis=1) > 0].sum()\n",
        "print(f'total_nans: {total_nans}')"
      ],
      "execution_count": 4,
      "outputs": [
        {
          "output_type": "stream",
          "text": [
            "total_nans: 14832\n"
          ],
          "name": "stdout"
        }
      ]
    },
    {
      "cell_type": "markdown",
      "metadata": {
        "_uuid": "9b5763b91a3a779fe0c5d676beb73bbe7963a060",
        "colab_type": "text",
        "id": "a7VrXTA48wbb"
      },
      "source": [
        "That's a lot of NaNs.\n",
        "\n",
        "RR.L data (target) starts at 2000-01-03, so drop all rows before this date, which will remove a lot of NaNs."
      ]
    },
    {
      "cell_type": "code",
      "metadata": {
        "_uuid": "2fe1e505aa464cb4182598a4eae1b13081ffe6f7",
        "colab_type": "code",
        "id": "ijeN-RnI8wbb",
        "outputId": "bf6d7ca9-dc7b-4d19-8151-de3d7857c3c6",
        "colab": {
          "base_uri": "https://localhost:8080/",
          "height": 51
        }
      },
      "source": [
        "print(df.shape)\n",
        "start = df.index.searchsorted(dt.datetime(2000, 1, 3))\n",
        "end = df.index.searchsorted(dt.datetime(2018, 8, 31))\n",
        "df = df.iloc[start:end]\n",
        "print(df.shape)"
      ],
      "execution_count": 5,
      "outputs": [
        {
          "output_type": "stream",
          "text": [
            "(5100, 48)\n",
            "(5100, 48)\n"
          ],
          "name": "stdout"
        }
      ]
    },
    {
      "cell_type": "code",
      "metadata": {
        "_uuid": "8ad7b8806f1042c22309ee1705d67a4b56f9469e",
        "colab_type": "code",
        "id": "CDTD9Tsf8wbd",
        "outputId": "eaf6bcbb-7c9d-464f-fb33-61481964f6d6",
        "colab": {
          "base_uri": "https://localhost:8080/",
          "height": 34
        }
      },
      "source": [
        "total_nans = df.isnull().sum(axis=1)[df.isnull().sum(axis=1) > 0].sum()\n",
        "print(f'total_nans: {total_nans}')"
      ],
      "execution_count": 6,
      "outputs": [
        {
          "output_type": "stream",
          "text": [
            "total_nans: 14832\n"
          ],
          "name": "stdout"
        }
      ]
    },
    {
      "cell_type": "code",
      "metadata": {
        "_uuid": "a0818f466ffeef4a695a7bf3e5510a659469cacc",
        "colab_type": "code",
        "id": "pc7XqIka8wbf",
        "outputId": "869d9504-6e3f-4adb-821f-2ad6a54f5c59",
        "colab": {
          "base_uri": "https://localhost:8080/",
          "height": 338
        }
      },
      "source": [
        "df.head()"
      ],
      "execution_count": 7,
      "outputs": [
        {
          "output_type": "execute_result",
          "data": {
            "text/html": [
              "<div>\n",
              "<style scoped>\n",
              "    .dataframe tbody tr th:only-of-type {\n",
              "        vertical-align: middle;\n",
              "    }\n",
              "\n",
              "    .dataframe tbody tr th {\n",
              "        vertical-align: top;\n",
              "    }\n",
              "\n",
              "    .dataframe thead th {\n",
              "        text-align: right;\n",
              "    }\n",
              "</style>\n",
              "<table border=\"1\" class=\"dataframe\">\n",
              "  <thead>\n",
              "    <tr style=\"text-align: right;\">\n",
              "      <th></th>\n",
              "      <th>RR_L_1_open</th>\n",
              "      <th>RR_L_2_high</th>\n",
              "      <th>RR_L_3_low</th>\n",
              "      <th>RR_L_4_close</th>\n",
              "      <th>RR_L_5_adjusted_close</th>\n",
              "      <th>RR_L_6_volume</th>\n",
              "      <th>RR_L_7_dividend_amount</th>\n",
              "      <th>RR_L_8_split_coefficient_</th>\n",
              "      <th>GE_1_open</th>\n",
              "      <th>GE_2_high</th>\n",
              "      <th>...</th>\n",
              "      <th>BA_L_7_dividend_amount</th>\n",
              "      <th>BA_L_8_split_coefficient_</th>\n",
              "      <th>GBP_USD_1_open</th>\n",
              "      <th>GBP_USD_2_high</th>\n",
              "      <th>GBP_USD_3_low</th>\n",
              "      <th>GBP_USD_4_close</th>\n",
              "      <th>EUR_USD_1_open</th>\n",
              "      <th>EUR_USD_2_high</th>\n",
              "      <th>EUR_USD_3_low</th>\n",
              "      <th>EUR_USD_4_close</th>\n",
              "    </tr>\n",
              "  </thead>\n",
              "  <tbody>\n",
              "    <tr>\n",
              "      <th>2000-01-03</th>\n",
              "      <td>nan</td>\n",
              "      <td>nan</td>\n",
              "      <td>nan</td>\n",
              "      <td>nan</td>\n",
              "      <td>nan</td>\n",
              "      <td>nan</td>\n",
              "      <td>nan</td>\n",
              "      <td>nan</td>\n",
              "      <td>214.000</td>\n",
              "      <td>214.000</td>\n",
              "      <td>...</td>\n",
              "      <td>0.000</td>\n",
              "      <td>1.000</td>\n",
              "      <td>410.000</td>\n",
              "      <td>410.000</td>\n",
              "      <td>410.000</td>\n",
              "      <td>410.000</td>\n",
              "      <td>192.131</td>\n",
              "      <td>0.000</td>\n",
              "      <td>0.000</td>\n",
              "      <td>1.000</td>\n",
              "    </tr>\n",
              "    <tr>\n",
              "      <th>2000-01-04</th>\n",
              "      <td>nan</td>\n",
              "      <td>nan</td>\n",
              "      <td>nan</td>\n",
              "      <td>nan</td>\n",
              "      <td>nan</td>\n",
              "      <td>nan</td>\n",
              "      <td>nan</td>\n",
              "      <td>nan</td>\n",
              "      <td>223.000</td>\n",
              "      <td>235.000</td>\n",
              "      <td>...</td>\n",
              "      <td>0.000</td>\n",
              "      <td>1.000</td>\n",
              "      <td>415.000</td>\n",
              "      <td>420.000</td>\n",
              "      <td>404.000</td>\n",
              "      <td>408.500</td>\n",
              "      <td>191.428</td>\n",
              "      <td>12310650.000</td>\n",
              "      <td>0.000</td>\n",
              "      <td>1.000</td>\n",
              "    </tr>\n",
              "    <tr>\n",
              "      <th>2000-01-05</th>\n",
              "      <td>nan</td>\n",
              "      <td>nan</td>\n",
              "      <td>nan</td>\n",
              "      <td>nan</td>\n",
              "      <td>nan</td>\n",
              "      <td>nan</td>\n",
              "      <td>nan</td>\n",
              "      <td>nan</td>\n",
              "      <td>222.500</td>\n",
              "      <td>228.000</td>\n",
              "      <td>...</td>\n",
              "      <td>0.000</td>\n",
              "      <td>1.000</td>\n",
              "      <td>413.000</td>\n",
              "      <td>414.000</td>\n",
              "      <td>397.000</td>\n",
              "      <td>401.250</td>\n",
              "      <td>188.030</td>\n",
              "      <td>11922681.000</td>\n",
              "      <td>0.000</td>\n",
              "      <td>1.000</td>\n",
              "    </tr>\n",
              "    <tr>\n",
              "      <th>2000-01-06</th>\n",
              "      <td>nan</td>\n",
              "      <td>nan</td>\n",
              "      <td>nan</td>\n",
              "      <td>nan</td>\n",
              "      <td>nan</td>\n",
              "      <td>nan</td>\n",
              "      <td>nan</td>\n",
              "      <td>nan</td>\n",
              "      <td>226.800</td>\n",
              "      <td>226.800</td>\n",
              "      <td>...</td>\n",
              "      <td>0.000</td>\n",
              "      <td>1.000</td>\n",
              "      <td>402.000</td>\n",
              "      <td>410.000</td>\n",
              "      <td>396.000</td>\n",
              "      <td>404.750</td>\n",
              "      <td>189.671</td>\n",
              "      <td>11947304.000</td>\n",
              "      <td>0.000</td>\n",
              "      <td>1.000</td>\n",
              "    </tr>\n",
              "    <tr>\n",
              "      <th>2000-01-07</th>\n",
              "      <td>nan</td>\n",
              "      <td>nan</td>\n",
              "      <td>nan</td>\n",
              "      <td>nan</td>\n",
              "      <td>nan</td>\n",
              "      <td>nan</td>\n",
              "      <td>nan</td>\n",
              "      <td>nan</td>\n",
              "      <td>217.000</td>\n",
              "      <td>235.000</td>\n",
              "      <td>...</td>\n",
              "      <td>0.000</td>\n",
              "      <td>1.000</td>\n",
              "      <td>403.000</td>\n",
              "      <td>419.000</td>\n",
              "      <td>383.000</td>\n",
              "      <td>388.250</td>\n",
              "      <td>181.939</td>\n",
              "      <td>10992815.000</td>\n",
              "      <td>0.000</td>\n",
              "      <td>1.000</td>\n",
              "    </tr>\n",
              "  </tbody>\n",
              "</table>\n",
              "<p>5 rows × 48 columns</p>\n",
              "</div>"
            ],
            "text/plain": [
              "            RR_L_1_open  RR_L_2_high  RR_L_3_low  RR_L_4_close  \\\n",
              "2000-01-03          nan          nan         nan           nan   \n",
              "2000-01-04          nan          nan         nan           nan   \n",
              "2000-01-05          nan          nan         nan           nan   \n",
              "2000-01-06          nan          nan         nan           nan   \n",
              "2000-01-07          nan          nan         nan           nan   \n",
              "\n",
              "            RR_L_5_adjusted_close  RR_L_6_volume  RR_L_7_dividend_amount  \\\n",
              "2000-01-03                    nan            nan                     nan   \n",
              "2000-01-04                    nan            nan                     nan   \n",
              "2000-01-05                    nan            nan                     nan   \n",
              "2000-01-06                    nan            nan                     nan   \n",
              "2000-01-07                    nan            nan                     nan   \n",
              "\n",
              "            RR_L_8_split_coefficient_  GE_1_open  GE_2_high  ...  \\\n",
              "2000-01-03                        nan    214.000    214.000  ...   \n",
              "2000-01-04                        nan    223.000    235.000  ...   \n",
              "2000-01-05                        nan    222.500    228.000  ...   \n",
              "2000-01-06                        nan    226.800    226.800  ...   \n",
              "2000-01-07                        nan    217.000    235.000  ...   \n",
              "\n",
              "            BA_L_7_dividend_amount  BA_L_8_split_coefficient_  GBP_USD_1_open  \\\n",
              "2000-01-03                   0.000                      1.000         410.000   \n",
              "2000-01-04                   0.000                      1.000         415.000   \n",
              "2000-01-05                   0.000                      1.000         413.000   \n",
              "2000-01-06                   0.000                      1.000         402.000   \n",
              "2000-01-07                   0.000                      1.000         403.000   \n",
              "\n",
              "            GBP_USD_2_high  GBP_USD_3_low  GBP_USD_4_close  EUR_USD_1_open  \\\n",
              "2000-01-03         410.000        410.000          410.000         192.131   \n",
              "2000-01-04         420.000        404.000          408.500         191.428   \n",
              "2000-01-05         414.000        397.000          401.250         188.030   \n",
              "2000-01-06         410.000        396.000          404.750         189.671   \n",
              "2000-01-07         419.000        383.000          388.250         181.939   \n",
              "\n",
              "            EUR_USD_2_high  EUR_USD_3_low  EUR_USD_4_close  \n",
              "2000-01-03           0.000          0.000            1.000  \n",
              "2000-01-04    12310650.000          0.000            1.000  \n",
              "2000-01-05    11922681.000          0.000            1.000  \n",
              "2000-01-06    11947304.000          0.000            1.000  \n",
              "2000-01-07    10992815.000          0.000            1.000  \n",
              "\n",
              "[5 rows x 48 columns]"
            ]
          },
          "metadata": {
            "tags": []
          },
          "execution_count": 7
        }
      ]
    },
    {
      "cell_type": "code",
      "metadata": {
        "_uuid": "d02481f19dc941b03626acf2be4e0726c8202114",
        "colab_type": "code",
        "id": "rLE_tijs8wbg",
        "colab": {}
      },
      "source": [
        "df.fillna(df.rolling(7, min_periods=1).mean(), inplace=True)"
      ],
      "execution_count": 0,
      "outputs": []
    },
    {
      "cell_type": "code",
      "metadata": {
        "_uuid": "51581405ad64d57ede98a4611746a27e6d931cbd",
        "colab_type": "code",
        "id": "xLa_61Z58wbj",
        "colab": {}
      },
      "source": [
        "df.fillna(df.median(), inplace=True)"
      ],
      "execution_count": 0,
      "outputs": []
    },
    {
      "cell_type": "code",
      "metadata": {
        "_uuid": "55822d6f79b47bb1625ac3f7e40b52f06d0cad47",
        "colab_type": "code",
        "id": "gdW8dqrB8wbm",
        "colab": {}
      },
      "source": [
        "moving_average_window = 7\n",
        "df['RR_L_HL_Spread'] = df.RR_L_2_high - df.RR_L_3_low\n",
        "df['RR_L_OC_Spread'] = df.RR_L_4_close - df.RR_L_1_open\n",
        "df['RR_L_HL_MA_Spread'] = df.RR_L_HL_Spread - df.RR_L_HL_Spread.shift(moving_average_window)\n",
        "df['RR_L_OC_MA_Spread'] = df.RR_L_OC_Spread - df.RR_L_OC_Spread.shift(moving_average_window)\n",
        "# the moving average columns will create NaNs for the first n_moving_average_window rows\n",
        "df.fillna(0, inplace=True)\n",
        "df['RR_L_Close_UD'] = np.where(df['RR_L_OC_Spread']>=0, 1, 0)\n"
      ],
      "execution_count": 0,
      "outputs": []
    },
    {
      "cell_type": "code",
      "metadata": {
        "_uuid": "df8a635cef6cd52ff619dd34668638847f9faef3",
        "colab_type": "code",
        "id": "eNRFj47g8wbo",
        "outputId": "cb596b87-2089-4de6-8b92-e64ba4d23b64",
        "colab": {
          "base_uri": "https://localhost:8080/",
          "height": 346
        }
      },
      "source": [
        "df.describe()"
      ],
      "execution_count": 11,
      "outputs": [
        {
          "output_type": "execute_result",
          "data": {
            "text/html": [
              "<div>\n",
              "<style scoped>\n",
              "    .dataframe tbody tr th:only-of-type {\n",
              "        vertical-align: middle;\n",
              "    }\n",
              "\n",
              "    .dataframe tbody tr th {\n",
              "        vertical-align: top;\n",
              "    }\n",
              "\n",
              "    .dataframe thead th {\n",
              "        text-align: right;\n",
              "    }\n",
              "</style>\n",
              "<table border=\"1\" class=\"dataframe\">\n",
              "  <thead>\n",
              "    <tr style=\"text-align: right;\">\n",
              "      <th></th>\n",
              "      <th>RR_L_1_open</th>\n",
              "      <th>RR_L_2_high</th>\n",
              "      <th>RR_L_3_low</th>\n",
              "      <th>RR_L_4_close</th>\n",
              "      <th>RR_L_5_adjusted_close</th>\n",
              "      <th>RR_L_6_volume</th>\n",
              "      <th>RR_L_7_dividend_amount</th>\n",
              "      <th>RR_L_8_split_coefficient_</th>\n",
              "      <th>GE_1_open</th>\n",
              "      <th>GE_2_high</th>\n",
              "      <th>...</th>\n",
              "      <th>GBP_USD_4_close</th>\n",
              "      <th>EUR_USD_1_open</th>\n",
              "      <th>EUR_USD_2_high</th>\n",
              "      <th>EUR_USD_3_low</th>\n",
              "      <th>EUR_USD_4_close</th>\n",
              "      <th>RR_L_HL_Spread</th>\n",
              "      <th>RR_L_OC_Spread</th>\n",
              "      <th>RR_L_HL_MA_Spread</th>\n",
              "      <th>RR_L_OC_MA_Spread</th>\n",
              "      <th>RR_L_Close_UD</th>\n",
              "    </tr>\n",
              "  </thead>\n",
              "  <tbody>\n",
              "    <tr>\n",
              "      <th>count</th>\n",
              "      <td>5100.000</td>\n",
              "      <td>5100.000</td>\n",
              "      <td>5100.000</td>\n",
              "      <td>5100.000</td>\n",
              "      <td>5100.000</td>\n",
              "      <td>5100.000</td>\n",
              "      <td>5100.000</td>\n",
              "      <td>5100.000</td>\n",
              "      <td>5100.000</td>\n",
              "      <td>5100.000</td>\n",
              "      <td>...</td>\n",
              "      <td>5100.000</td>\n",
              "      <td>5100.000</td>\n",
              "      <td>5100.000</td>\n",
              "      <td>5100.000</td>\n",
              "      <td>5100.000</td>\n",
              "      <td>5100.000</td>\n",
              "      <td>5100.000</td>\n",
              "      <td>5100.000</td>\n",
              "      <td>5100.000</td>\n",
              "      <td>5100.000</td>\n",
              "    </tr>\n",
              "    <tr>\n",
              "      <th>mean</th>\n",
              "      <td>1.600</td>\n",
              "      <td>1.606</td>\n",
              "      <td>1.593</td>\n",
              "      <td>1.600</td>\n",
              "      <td>1.216</td>\n",
              "      <td>1.222</td>\n",
              "      <td>1.211</td>\n",
              "      <td>1.216</td>\n",
              "      <td>552.714</td>\n",
              "      <td>559.293</td>\n",
              "      <td>...</td>\n",
              "      <td>387.317</td>\n",
              "      <td>286.343</td>\n",
              "      <td>13225156.887</td>\n",
              "      <td>0.000</td>\n",
              "      <td>1.000</td>\n",
              "      <td>0.013</td>\n",
              "      <td>-0.000</td>\n",
              "      <td>-0.000</td>\n",
              "      <td>0.000</td>\n",
              "      <td>0.520</td>\n",
              "    </tr>\n",
              "    <tr>\n",
              "      <th>std</th>\n",
              "      <td>0.198</td>\n",
              "      <td>0.199</td>\n",
              "      <td>0.197</td>\n",
              "      <td>0.198</td>\n",
              "      <td>0.165</td>\n",
              "      <td>0.166</td>\n",
              "      <td>0.164</td>\n",
              "      <td>0.165</td>\n",
              "      <td>308.323</td>\n",
              "      <td>310.617</td>\n",
              "      <td>...</td>\n",
              "      <td>124.336</td>\n",
              "      <td>149.992</td>\n",
              "      <td>13259614.796</td>\n",
              "      <td>0.000</td>\n",
              "      <td>0.000</td>\n",
              "      <td>0.008</td>\n",
              "      <td>0.009</td>\n",
              "      <td>0.008</td>\n",
              "      <td>0.012</td>\n",
              "      <td>0.500</td>\n",
              "    </tr>\n",
              "    <tr>\n",
              "      <th>min</th>\n",
              "      <td>1.202</td>\n",
              "      <td>1.206</td>\n",
              "      <td>1.194</td>\n",
              "      <td>1.202</td>\n",
              "      <td>0.828</td>\n",
              "      <td>0.832</td>\n",
              "      <td>0.822</td>\n",
              "      <td>0.827</td>\n",
              "      <td>0.000</td>\n",
              "      <td>0.000</td>\n",
              "      <td>...</td>\n",
              "      <td>0.000</td>\n",
              "      <td>0.000</td>\n",
              "      <td>0.000</td>\n",
              "      <td>0.000</td>\n",
              "      <td>1.000</td>\n",
              "      <td>0.000</td>\n",
              "      <td>-0.121</td>\n",
              "      <td>-0.160</td>\n",
              "      <td>-0.122</td>\n",
              "      <td>0.000</td>\n",
              "    </tr>\n",
              "    <tr>\n",
              "      <th>25%</th>\n",
              "      <td>1.460</td>\n",
              "      <td>1.468</td>\n",
              "      <td>1.453</td>\n",
              "      <td>1.460</td>\n",
              "      <td>1.115</td>\n",
              "      <td>1.120</td>\n",
              "      <td>1.111</td>\n",
              "      <td>1.115</td>\n",
              "      <td>250.500</td>\n",
              "      <td>253.750</td>\n",
              "      <td>...</td>\n",
              "      <td>316.500</td>\n",
              "      <td>179.556</td>\n",
              "      <td>6905319.750</td>\n",
              "      <td>0.000</td>\n",
              "      <td>1.000</td>\n",
              "      <td>0.009</td>\n",
              "      <td>-0.004</td>\n",
              "      <td>-0.004</td>\n",
              "      <td>-0.007</td>\n",
              "      <td>0.000</td>\n",
              "    </tr>\n",
              "    <tr>\n",
              "      <th>50%</th>\n",
              "      <td>1.573</td>\n",
              "      <td>1.580</td>\n",
              "      <td>1.567</td>\n",
              "      <td>1.573</td>\n",
              "      <td>1.234</td>\n",
              "      <td>1.239</td>\n",
              "      <td>1.228</td>\n",
              "      <td>1.234</td>\n",
              "      <td>518.375</td>\n",
              "      <td>526.500</td>\n",
              "      <td>...</td>\n",
              "      <td>373.500</td>\n",
              "      <td>241.997</td>\n",
              "      <td>10088790.250</td>\n",
              "      <td>0.000</td>\n",
              "      <td>1.000</td>\n",
              "      <td>0.012</td>\n",
              "      <td>0.000</td>\n",
              "      <td>0.000</td>\n",
              "      <td>0.000</td>\n",
              "      <td>1.000</td>\n",
              "    </tr>\n",
              "    <tr>\n",
              "      <th>75%</th>\n",
              "      <td>1.715</td>\n",
              "      <td>1.723</td>\n",
              "      <td>1.711</td>\n",
              "      <td>1.715</td>\n",
              "      <td>1.334</td>\n",
              "      <td>1.339</td>\n",
              "      <td>1.328</td>\n",
              "      <td>1.334</td>\n",
              "      <td>825.763</td>\n",
              "      <td>834.650</td>\n",
              "      <td>...</td>\n",
              "      <td>465.762</td>\n",
              "      <td>378.487</td>\n",
              "      <td>15912849.000</td>\n",
              "      <td>0.000</td>\n",
              "      <td>1.000</td>\n",
              "      <td>0.016</td>\n",
              "      <td>0.005</td>\n",
              "      <td>0.004</td>\n",
              "      <td>0.007</td>\n",
              "      <td>1.000</td>\n",
              "    </tr>\n",
              "    <tr>\n",
              "      <th>max</th>\n",
              "      <td>2.107</td>\n",
              "      <td>2.116</td>\n",
              "      <td>2.097</td>\n",
              "      <td>2.107</td>\n",
              "      <td>1.600</td>\n",
              "      <td>1.603</td>\n",
              "      <td>1.587</td>\n",
              "      <td>1.600</td>\n",
              "      <td>1289.000</td>\n",
              "      <td>1294.000</td>\n",
              "      <td>...</td>\n",
              "      <td>677.000</td>\n",
              "      <td>676.400</td>\n",
              "      <td>497039744.000</td>\n",
              "      <td>0.000</td>\n",
              "      <td>1.000</td>\n",
              "      <td>0.166</td>\n",
              "      <td>0.046</td>\n",
              "      <td>0.141</td>\n",
              "      <td>0.124</td>\n",
              "      <td>1.000</td>\n",
              "    </tr>\n",
              "  </tbody>\n",
              "</table>\n",
              "<p>8 rows × 53 columns</p>\n",
              "</div>"
            ],
            "text/plain": [
              "       RR_L_1_open  RR_L_2_high  RR_L_3_low  RR_L_4_close  \\\n",
              "count     5100.000     5100.000    5100.000      5100.000   \n",
              "mean         1.600        1.606       1.593         1.600   \n",
              "std          0.198        0.199       0.197         0.198   \n",
              "min          1.202        1.206       1.194         1.202   \n",
              "25%          1.460        1.468       1.453         1.460   \n",
              "50%          1.573        1.580       1.567         1.573   \n",
              "75%          1.715        1.723       1.711         1.715   \n",
              "max          2.107        2.116       2.097         2.107   \n",
              "\n",
              "       RR_L_5_adjusted_close  RR_L_6_volume  RR_L_7_dividend_amount  \\\n",
              "count               5100.000       5100.000                5100.000   \n",
              "mean                   1.216          1.222                   1.211   \n",
              "std                    0.165          0.166                   0.164   \n",
              "min                    0.828          0.832                   0.822   \n",
              "25%                    1.115          1.120                   1.111   \n",
              "50%                    1.234          1.239                   1.228   \n",
              "75%                    1.334          1.339                   1.328   \n",
              "max                    1.600          1.603                   1.587   \n",
              "\n",
              "       RR_L_8_split_coefficient_  GE_1_open  GE_2_high  ...  GBP_USD_4_close  \\\n",
              "count                   5100.000   5100.000   5100.000  ...         5100.000   \n",
              "mean                       1.216    552.714    559.293  ...          387.317   \n",
              "std                        0.165    308.323    310.617  ...          124.336   \n",
              "min                        0.827      0.000      0.000  ...            0.000   \n",
              "25%                        1.115    250.500    253.750  ...          316.500   \n",
              "50%                        1.234    518.375    526.500  ...          373.500   \n",
              "75%                        1.334    825.763    834.650  ...          465.762   \n",
              "max                        1.600   1289.000   1294.000  ...          677.000   \n",
              "\n",
              "       EUR_USD_1_open  EUR_USD_2_high  EUR_USD_3_low  EUR_USD_4_close  \\\n",
              "count        5100.000        5100.000       5100.000         5100.000   \n",
              "mean          286.343    13225156.887          0.000            1.000   \n",
              "std           149.992    13259614.796          0.000            0.000   \n",
              "min             0.000           0.000          0.000            1.000   \n",
              "25%           179.556     6905319.750          0.000            1.000   \n",
              "50%           241.997    10088790.250          0.000            1.000   \n",
              "75%           378.487    15912849.000          0.000            1.000   \n",
              "max           676.400   497039744.000          0.000            1.000   \n",
              "\n",
              "       RR_L_HL_Spread  RR_L_OC_Spread  RR_L_HL_MA_Spread  RR_L_OC_MA_Spread  \\\n",
              "count        5100.000        5100.000           5100.000           5100.000   \n",
              "mean            0.013          -0.000             -0.000              0.000   \n",
              "std             0.008           0.009              0.008              0.012   \n",
              "min             0.000          -0.121             -0.160             -0.122   \n",
              "25%             0.009          -0.004             -0.004             -0.007   \n",
              "50%             0.012           0.000              0.000              0.000   \n",
              "75%             0.016           0.005              0.004              0.007   \n",
              "max             0.166           0.046              0.141              0.124   \n",
              "\n",
              "       RR_L_Close_UD  \n",
              "count       5100.000  \n",
              "mean           0.520  \n",
              "std            0.500  \n",
              "min            0.000  \n",
              "25%            0.000  \n",
              "50%            1.000  \n",
              "75%            1.000  \n",
              "max            1.000  \n",
              "\n",
              "[8 rows x 53 columns]"
            ]
          },
          "metadata": {
            "tags": []
          },
          "execution_count": 11
        }
      ]
    },
    {
      "cell_type": "code",
      "metadata": {
        "_uuid": "f942f74e85190b65581026c0d930632cc6b48bd1",
        "colab_type": "code",
        "id": "8O2qD5iU8wbp",
        "colab": {}
      },
      "source": [
        "X = df.drop('RR_L_4_close', axis=1)\n",
        "y = df['RR_L_4_close']"
      ],
      "execution_count": 0,
      "outputs": []
    },
    {
      "cell_type": "code",
      "metadata": {
        "_uuid": "60ca2bb070ccaa5dd4bffa9edf2212d4263aa2c7",
        "colab_type": "code",
        "id": "k6cBf0oe8wbr",
        "outputId": "dbdb5f48-212a-4310-eef4-326d3d0d46de",
        "colab": {
          "base_uri": "https://localhost:8080/",
          "height": 34
        }
      },
      "source": [
        "X.shape"
      ],
      "execution_count": 13,
      "outputs": [
        {
          "output_type": "execute_result",
          "data": {
            "text/plain": [
              "(5100, 52)"
            ]
          },
          "metadata": {
            "tags": []
          },
          "execution_count": 13
        }
      ]
    },
    {
      "cell_type": "code",
      "metadata": {
        "_uuid": "a19c62753ede271fdba37b666c098f100afb8808",
        "colab_type": "code",
        "id": "7Yu1Mc9A8wbt",
        "outputId": "2ee2928b-9bd0-4a09-dc09-1c9297b59836",
        "colab": {
          "base_uri": "https://localhost:8080/",
          "height": 338
        }
      },
      "source": [
        "X.head()"
      ],
      "execution_count": 14,
      "outputs": [
        {
          "output_type": "execute_result",
          "data": {
            "text/html": [
              "<div>\n",
              "<style scoped>\n",
              "    .dataframe tbody tr th:only-of-type {\n",
              "        vertical-align: middle;\n",
              "    }\n",
              "\n",
              "    .dataframe tbody tr th {\n",
              "        vertical-align: top;\n",
              "    }\n",
              "\n",
              "    .dataframe thead th {\n",
              "        text-align: right;\n",
              "    }\n",
              "</style>\n",
              "<table border=\"1\" class=\"dataframe\">\n",
              "  <thead>\n",
              "    <tr style=\"text-align: right;\">\n",
              "      <th></th>\n",
              "      <th>RR_L_1_open</th>\n",
              "      <th>RR_L_2_high</th>\n",
              "      <th>RR_L_3_low</th>\n",
              "      <th>RR_L_5_adjusted_close</th>\n",
              "      <th>RR_L_6_volume</th>\n",
              "      <th>RR_L_7_dividend_amount</th>\n",
              "      <th>RR_L_8_split_coefficient_</th>\n",
              "      <th>GE_1_open</th>\n",
              "      <th>GE_2_high</th>\n",
              "      <th>GE_3_low</th>\n",
              "      <th>...</th>\n",
              "      <th>GBP_USD_4_close</th>\n",
              "      <th>EUR_USD_1_open</th>\n",
              "      <th>EUR_USD_2_high</th>\n",
              "      <th>EUR_USD_3_low</th>\n",
              "      <th>EUR_USD_4_close</th>\n",
              "      <th>RR_L_HL_Spread</th>\n",
              "      <th>RR_L_OC_Spread</th>\n",
              "      <th>RR_L_HL_MA_Spread</th>\n",
              "      <th>RR_L_OC_MA_Spread</th>\n",
              "      <th>RR_L_Close_UD</th>\n",
              "    </tr>\n",
              "  </thead>\n",
              "  <tbody>\n",
              "    <tr>\n",
              "      <th>2000-01-03</th>\n",
              "      <td>1.573</td>\n",
              "      <td>1.580</td>\n",
              "      <td>1.567</td>\n",
              "      <td>1.234</td>\n",
              "      <td>1.239</td>\n",
              "      <td>1.228</td>\n",
              "      <td>1.234</td>\n",
              "      <td>214.000</td>\n",
              "      <td>214.000</td>\n",
              "      <td>214.000</td>\n",
              "      <td>...</td>\n",
              "      <td>410.000</td>\n",
              "      <td>192.131</td>\n",
              "      <td>0.000</td>\n",
              "      <td>0.000</td>\n",
              "      <td>1.000</td>\n",
              "      <td>0.012</td>\n",
              "      <td>0.000</td>\n",
              "      <td>0.000</td>\n",
              "      <td>0.000</td>\n",
              "      <td>1</td>\n",
              "    </tr>\n",
              "    <tr>\n",
              "      <th>2000-01-04</th>\n",
              "      <td>1.573</td>\n",
              "      <td>1.580</td>\n",
              "      <td>1.567</td>\n",
              "      <td>1.234</td>\n",
              "      <td>1.239</td>\n",
              "      <td>1.228</td>\n",
              "      <td>1.234</td>\n",
              "      <td>223.000</td>\n",
              "      <td>235.000</td>\n",
              "      <td>221.000</td>\n",
              "      <td>...</td>\n",
              "      <td>408.500</td>\n",
              "      <td>191.428</td>\n",
              "      <td>12310650.000</td>\n",
              "      <td>0.000</td>\n",
              "      <td>1.000</td>\n",
              "      <td>0.012</td>\n",
              "      <td>0.000</td>\n",
              "      <td>0.000</td>\n",
              "      <td>0.000</td>\n",
              "      <td>1</td>\n",
              "    </tr>\n",
              "    <tr>\n",
              "      <th>2000-01-05</th>\n",
              "      <td>1.573</td>\n",
              "      <td>1.580</td>\n",
              "      <td>1.567</td>\n",
              "      <td>1.234</td>\n",
              "      <td>1.239</td>\n",
              "      <td>1.228</td>\n",
              "      <td>1.234</td>\n",
              "      <td>222.500</td>\n",
              "      <td>228.000</td>\n",
              "      <td>211.000</td>\n",
              "      <td>...</td>\n",
              "      <td>401.250</td>\n",
              "      <td>188.030</td>\n",
              "      <td>11922681.000</td>\n",
              "      <td>0.000</td>\n",
              "      <td>1.000</td>\n",
              "      <td>0.012</td>\n",
              "      <td>0.000</td>\n",
              "      <td>0.000</td>\n",
              "      <td>0.000</td>\n",
              "      <td>1</td>\n",
              "    </tr>\n",
              "    <tr>\n",
              "      <th>2000-01-06</th>\n",
              "      <td>1.573</td>\n",
              "      <td>1.580</td>\n",
              "      <td>1.567</td>\n",
              "      <td>1.234</td>\n",
              "      <td>1.239</td>\n",
              "      <td>1.228</td>\n",
              "      <td>1.234</td>\n",
              "      <td>226.800</td>\n",
              "      <td>226.800</td>\n",
              "      <td>215.000</td>\n",
              "      <td>...</td>\n",
              "      <td>404.750</td>\n",
              "      <td>189.671</td>\n",
              "      <td>11947304.000</td>\n",
              "      <td>0.000</td>\n",
              "      <td>1.000</td>\n",
              "      <td>0.012</td>\n",
              "      <td>0.000</td>\n",
              "      <td>0.000</td>\n",
              "      <td>0.000</td>\n",
              "      <td>1</td>\n",
              "    </tr>\n",
              "    <tr>\n",
              "      <th>2000-01-07</th>\n",
              "      <td>1.573</td>\n",
              "      <td>1.580</td>\n",
              "      <td>1.567</td>\n",
              "      <td>1.234</td>\n",
              "      <td>1.239</td>\n",
              "      <td>1.228</td>\n",
              "      <td>1.234</td>\n",
              "      <td>217.000</td>\n",
              "      <td>235.000</td>\n",
              "      <td>217.000</td>\n",
              "      <td>...</td>\n",
              "      <td>388.250</td>\n",
              "      <td>181.939</td>\n",
              "      <td>10992815.000</td>\n",
              "      <td>0.000</td>\n",
              "      <td>1.000</td>\n",
              "      <td>0.012</td>\n",
              "      <td>0.000</td>\n",
              "      <td>0.000</td>\n",
              "      <td>0.000</td>\n",
              "      <td>1</td>\n",
              "    </tr>\n",
              "  </tbody>\n",
              "</table>\n",
              "<p>5 rows × 52 columns</p>\n",
              "</div>"
            ],
            "text/plain": [
              "            RR_L_1_open  RR_L_2_high  RR_L_3_low  RR_L_5_adjusted_close  \\\n",
              "2000-01-03        1.573        1.580       1.567                  1.234   \n",
              "2000-01-04        1.573        1.580       1.567                  1.234   \n",
              "2000-01-05        1.573        1.580       1.567                  1.234   \n",
              "2000-01-06        1.573        1.580       1.567                  1.234   \n",
              "2000-01-07        1.573        1.580       1.567                  1.234   \n",
              "\n",
              "            RR_L_6_volume  RR_L_7_dividend_amount  RR_L_8_split_coefficient_  \\\n",
              "2000-01-03          1.239                   1.228                      1.234   \n",
              "2000-01-04          1.239                   1.228                      1.234   \n",
              "2000-01-05          1.239                   1.228                      1.234   \n",
              "2000-01-06          1.239                   1.228                      1.234   \n",
              "2000-01-07          1.239                   1.228                      1.234   \n",
              "\n",
              "            GE_1_open  GE_2_high  GE_3_low  ...  GBP_USD_4_close  \\\n",
              "2000-01-03    214.000    214.000   214.000  ...          410.000   \n",
              "2000-01-04    223.000    235.000   221.000  ...          408.500   \n",
              "2000-01-05    222.500    228.000   211.000  ...          401.250   \n",
              "2000-01-06    226.800    226.800   215.000  ...          404.750   \n",
              "2000-01-07    217.000    235.000   217.000  ...          388.250   \n",
              "\n",
              "            EUR_USD_1_open  EUR_USD_2_high  EUR_USD_3_low  EUR_USD_4_close  \\\n",
              "2000-01-03         192.131           0.000          0.000            1.000   \n",
              "2000-01-04         191.428    12310650.000          0.000            1.000   \n",
              "2000-01-05         188.030    11922681.000          0.000            1.000   \n",
              "2000-01-06         189.671    11947304.000          0.000            1.000   \n",
              "2000-01-07         181.939    10992815.000          0.000            1.000   \n",
              "\n",
              "            RR_L_HL_Spread  RR_L_OC_Spread  RR_L_HL_MA_Spread  \\\n",
              "2000-01-03           0.012           0.000              0.000   \n",
              "2000-01-04           0.012           0.000              0.000   \n",
              "2000-01-05           0.012           0.000              0.000   \n",
              "2000-01-06           0.012           0.000              0.000   \n",
              "2000-01-07           0.012           0.000              0.000   \n",
              "\n",
              "            RR_L_OC_MA_Spread  RR_L_Close_UD  \n",
              "2000-01-03              0.000              1  \n",
              "2000-01-04              0.000              1  \n",
              "2000-01-05              0.000              1  \n",
              "2000-01-06              0.000              1  \n",
              "2000-01-07              0.000              1  \n",
              "\n",
              "[5 rows x 52 columns]"
            ]
          },
          "metadata": {
            "tags": []
          },
          "execution_count": 14
        }
      ]
    },
    {
      "cell_type": "code",
      "metadata": {
        "_uuid": "9b112e53b7e116bde79db0ff5b0530eea8f02925",
        "colab_type": "code",
        "id": "2LtW7C_n8wbu",
        "colab": {}
      },
      "source": [
        "X = X.values.astype('float64')\n",
        "y = y.values"
      ],
      "execution_count": 0,
      "outputs": []
    },
    {
      "cell_type": "code",
      "metadata": {
        "_uuid": "59ffe0bb015b1c30ac2351c28199dd6862814486",
        "colab_type": "code",
        "id": "VPwa14l68wbw",
        "scrolled": true,
        "colab": {}
      },
      "source": [
        "X_train_, X_val, y_train_, y_val = train_test_split(\n",
        "    X, y, test_size=0.3, random_state=42, shuffle=False)\n",
        "\n",
        "X_train, X_test, y_train, y_test = train_test_split(\n",
        "    X_train_, y_train_, test_size=0.3, random_state=42, shuffle=False)"
      ],
      "execution_count": 0,
      "outputs": []
    },
    {
      "cell_type": "code",
      "metadata": {
        "id": "zGjyJPB-CI2R",
        "colab_type": "code",
        "colab": {}
      },
      "source": [
        "scale = MinMaxScaler([-0.2, 0.2])\n",
        "X_train = scale.fit_transform(X_train)\n",
        "X_test = scale.transform(X_test)\n",
        "X_val = scale.transform(X_val)"
      ],
      "execution_count": 0,
      "outputs": []
    },
    {
      "cell_type": "code",
      "metadata": {
        "id": "Sg9EDGGrDUZv",
        "colab_type": "code",
        "outputId": "e663a64f-d6cf-4d3f-e5d7-866c0eb7e8c3",
        "colab": {
          "base_uri": "https://localhost:8080/",
          "height": 119
        }
      },
      "source": [
        "for data in [('X_train', X_train), ('X_test', X_test), ('X_val', X_val)]:\n",
        "    assert not np.any(np.isnan(data[1]))\n",
        "    print(f\"{data[0]:7} max: {data[1].max(): .3f}\")\n",
        "    print(f\"{data[0]:7} min: {data[1].min(): .3f}\")"
      ],
      "execution_count": 18,
      "outputs": [
        {
          "output_type": "stream",
          "text": [
            "X_train max:  0.200\n",
            "X_train min: -0.200\n",
            "X_test  max:  0.882\n",
            "X_test  min: -0.254\n",
            "X_val   max:  0.936\n",
            "X_val   min: -0.536\n"
          ],
          "name": "stdout"
        }
      ]
    },
    {
      "cell_type": "code",
      "metadata": {
        "_uuid": "cd57e7f19b5a6d8ec3986c5ee424e3a02cf81e7f",
        "colab_type": "code",
        "id": "A94xXH578wb-",
        "scrolled": true,
        "colab": {}
      },
      "source": [
        "n_days_lag = 7\n",
        "n_batch_size = 64"
      ],
      "execution_count": 0,
      "outputs": []
    },
    {
      "cell_type": "code",
      "metadata": {
        "id": "3v8BUlw6s0rv",
        "colab_type": "code",
        "colab": {}
      },
      "source": [
        "def reshape_input(X, y=None, n_days_lag=0):\n",
        "    \"\"\"\n",
        "    Reshape training data (including DV) to lag the IVs and create batches.\n",
        "    Args:\n",
        "        X (independent variables)\n",
        "        y (dependent variable/target)\n",
        "    Returns:\n",
        "        X_train of shape (n_batches, n_batch_size, n_features)\n",
        "        y_train\n",
        "        n_features\n",
        "        X_shape (X_train shape)\n",
        "    \"\"\"\n",
        "    \n",
        "    n_features = X.shape[-1]\n",
        "    n_useful_samples = X.shape[0] - n_days_lag\n",
        "    n_batches = int(n_useful_samples / n_batch_size)\n",
        "    X_useful_range = np.array(range(n_batch_size * n_batches))\n",
        "    X = X.take([X_useful_range], axis=0)\n",
        "    X_shape = (n_batches, n_batch_size, n_features)\n",
        "    X = np.reshape(X, X_shape)\n",
        "    try:\n",
        "        y_useful_range = X_useful_range + n_days_lag\n",
        "        y = y.take([y_useful_range], axis=0)\n",
        "        y = y.T[1::n_batch_size]\n",
        "    \n",
        "        return X, y, n_features, X_shape\n",
        "    except AttributeError:\n",
        "        return X, n_features, X_shape"
      ],
      "execution_count": 0,
      "outputs": []
    },
    {
      "cell_type": "code",
      "metadata": {
        "id": "_NOwNznrs4gf",
        "colab_type": "code",
        "colab": {}
      },
      "source": [
        "X_train, y_train, n_features, X_shape = reshape_input(X_train, y_train, n_days_lag=n_days_lag)\n",
        "X_test, y_test, n_features, X_shape = reshape_input(X_test, y_test, n_days_lag=n_days_lag)\n",
        "X_val, y_val, n_features, X_val_shape = reshape_input(X_val, y_val, n_days_lag=0)"
      ],
      "execution_count": 0,
      "outputs": []
    },
    {
      "cell_type": "code",
      "metadata": {
        "id": "aQYaRZVfyIOy",
        "colab_type": "code",
        "colab": {}
      },
      "source": [
        "# fix random seed for reproducibility\n",
        "seed = 42\n",
        "np.random.seed(seed)"
      ],
      "execution_count": 0,
      "outputs": []
    },
    {
      "cell_type": "code",
      "metadata": {
        "id": "AgEjA0LyyKEb",
        "colab_type": "code",
        "colab": {}
      },
      "source": [
        "# define custom loss function to use RMSE in the NN model\n",
        "def rmse(y_true, y_pred):\n",
        "        return K.sqrt(K.mean(K.square(y_pred - y_true), axis=-1))"
      ],
      "execution_count": 0,
      "outputs": []
    },
    {
      "cell_type": "code",
      "metadata": {
        "id": "tCSYQ3bHyLrz",
        "colab_type": "code",
        "colab": {}
      },
      "source": [
        "# define callbacks\n",
        "## print epoch number to show progress with less output than verbose offers\n",
        "epoch_print_callback = LambdaCallback(\n",
        "    on_epoch_begin=lambda epoch,\n",
        "    logs: print(f'Epoch: {epoch + 1}/{n_epochs}\\tTime: {dt.datetime.now().time().strftime(\"%H:%M:%S\")}') if epoch%10 == 0 else False)\n",
        "\n",
        "## logging\n",
        "now = dt.datetime.now().strftime('%Y%m%d_%H%M%S')\n",
        "csv_logger = CSVLogger(f'gru_log_draft_{now}.csv', append=True, separator=',')\n",
        "\n",
        "## learning rate reduction at plateua in loss\n",
        "patience = 10\n",
        "rlrop = ReduceLROnPlateau(monitor='loss',\n",
        "                         factor=0.1,\n",
        "                         patience=patience,\n",
        "                         verbose=1,\n",
        "                         mode='min',\n",
        "                         min_delta=0.01,\n",
        "                         cooldown=0,\n",
        "                         min_lr=1e-6)\n",
        "\n",
        "## early stopping\n",
        "early_stop = EarlyStopping(monitor='loss',\n",
        "                           min_delta=0.0001,\n",
        "                           patience=patience * 2,\n",
        "                           verbose=1,\n",
        "                           mode='min')"
      ],
      "execution_count": 0,
      "outputs": []
    },
    {
      "cell_type": "code",
      "metadata": {
        "id": "skWYeHUis0KB",
        "colab_type": "code",
        "outputId": "29ebbaf3-fb45-46a2-eb66-dcc5e1bdac66",
        "colab": {
          "base_uri": "https://localhost:8080/",
          "height": 88
        }
      },
      "source": [
        "# hyperparameters\n",
        "## architecture\n",
        "\n",
        "input_shape = X_train.shape[1:]\n",
        "n_units = 64\n",
        "dropout_rate = 0.5\n",
        "depth = 2\n",
        "## training\n",
        "n_epochs = 200\n",
        "val_split = 0.2\n",
        "if n_epochs < 1e3:\n",
        "    verbose = 1\n",
        "else:\n",
        "    verbose = 0\n",
        "    callbacks = [epoch_print_callback]\n",
        "verbose = 0\n",
        "callbacks = [rlrop, early_stop]\n",
        "## optimisation\n",
        "lr = 0.01\n",
        "momentum = 0.01\n",
        "decay = 0.0\n",
        "nesterov = False\n",
        "sgd = SGD(lr=lr, momentum=momentum, decay=decay, nesterov=nesterov)\n",
        "adam = Adam(lr=lr, decay=decay)\n",
        "optimiser = adam"
      ],
      "execution_count": 25,
      "outputs": [
        {
          "output_type": "stream",
          "text": [
            "WARNING:tensorflow:From /usr/local/lib/python3.6/dist-packages/tensorflow/python/framework/op_def_library.py:263: colocate_with (from tensorflow.python.framework.ops) is deprecated and will be removed in a future version.\n",
            "Instructions for updating:\n",
            "Colocations handled automatically by placer.\n"
          ],
          "name": "stdout"
        }
      ]
    },
    {
      "cell_type": "code",
      "metadata": {
        "_uuid": "2963dd57b42ece353a23c928931db3f713c30da8",
        "colab_type": "code",
        "id": "1COGmenu8wcC",
        "colab": {}
      },
      "source": [
        "space = {'hypersearch': hp.choice('hypersearch', [True]),\n",
        "         'n_units': hp.pchoice('n_units', [(0.3, 4), (0.4, 8), (0.3, 16)]),\n",
        "         'depth': hp.pchoice('depth', [(0.4, 4), (0.3, 8), (0.3, 16)]),\n",
        "         'dropout_rate': hp.uniform('dropout_rate',0.4,0.9),\n",
        "         'optimiser': hp.choice('optimiser',\n",
        "                                 ['adadelta',\n",
        "                                  'rmsprop',\n",
        "                                  'adam',\n",
        "                                  'sgd']),\n",
        "         'activation': hp.pchoice('activation', [(0.1, 'tanh'),\n",
        "                                                 (0.3, 'relu'),\n",
        "                                                 (0.15, 'sigmoid'),\n",
        "                                                 (0.3, 'elu'),\n",
        "                                                 (0.15, 'softmax')]),\n",
        "         'recurrent_activation': hp.pchoice('recurrent_activation',[(0.1, 'softmax'),\n",
        "                                                                    (0.3, 'relu'),\n",
        "                                                                    (0.15, 'sigmoid'),\n",
        "                                                                    (0.3, 'elu'),\n",
        "                                                                    (0.15, 'hard_sigmoid')]),\n",
        "         'regulariser': hp.choice('regulariser', [{'l1': 0.0000, 'l2': 0.0001},\n",
        "                                                  {'l1': 0.0001, 'l2': 0.0000},\n",
        "                                                  {'l1': 0.0001, 'l2': 0.0001}])}"
      ],
      "execution_count": 0,
      "outputs": []
    },
    {
      "cell_type": "code",
      "metadata": {
        "_uuid": "ead6b64b3d020699a5ab0081449c918eb0621436",
        "colab_type": "code",
        "id": "LVDQdRgj8wcJ",
        "colab": {}
      },
      "source": [
        "# tune hyperparameters with hyperopt\n",
        "def gru(params):\n",
        "    print (f'Params testing: {params}')\n",
        "    model = Sequential()\n",
        "    model.add(GRU(params['n_units'],\n",
        "                  input_shape=input_shape,\n",
        "                  activation=params['activation'],\n",
        "                  recurrent_activation=params['recurrent_activation'],\n",
        "                  kernel_regularizer=L1L2(l1=params['regulariser']['l1'],\n",
        "                                          l2=params['regulariser']['l2'])))\n",
        "    for i in range(depth):\n",
        "        model.add(Dropout(rate=params['dropout_rate']))\n",
        "        model.add(Reshape((-1, params['n_units'])))\n",
        "        model.add(GRU(n_units,\n",
        "                      activation=params['activation'],\n",
        "                      recurrent_activation=params['recurrent_activation'],\n",
        "                      kernel_regularizer=L1L2(l1=params['regulariser']['l1'],\n",
        "                                              l2=params['regulariser']['l2'])))\n",
        "    model.add(Dense(1, name='price'))\n",
        "    model.compile(loss=rmse,\n",
        "                  optimizer=params['optimiser'],\n",
        "                 )\n",
        "\n",
        "    model.fit(X_train,\n",
        "              y_train,\n",
        "              validation_split=val_split,\n",
        "              shuffle=False,\n",
        "              epochs=n_epochs,\n",
        "              callbacks=callbacks,\n",
        "              verbose=verbose)\n",
        "\n",
        "    y_pred = model.predict(X_test)\n",
        "    loss = np.sqrt(mse(y_test, y_pred))\n",
        "    print(f'loss: {loss}')\n",
        "    try:\n",
        "        params['hypersearch']\n",
        "        if loss > np.finfo(np.float32).max:\n",
        "            return {'status': STATUS_FAIL, 'model': model}\n",
        "        else:\n",
        "            return {'loss': loss, 'status': STATUS_OK, 'model': model}\n",
        "    except KeyError:\n",
        "        return model\n",
        "        "
      ],
      "execution_count": 0,
      "outputs": []
    },
    {
      "cell_type": "markdown",
      "metadata": {
        "id": "4qmt8Z1NKNR9",
        "colab_type": "text"
      },
      "source": [
        "### Run Trials"
      ]
    },
    {
      "cell_type": "code",
      "metadata": {
        "_uuid": "bd8b3b22acc56177114fa50d95e556d1457dd1e0",
        "colab_type": "code",
        "id": "36RR4Vu08wcK",
        "outputId": "e3a525ba-8eb1-4d9b-969f-f5b115583ffa",
        "colab": {
          "base_uri": "https://localhost:8080/",
          "height": 1890
        }
      },
      "source": [
        "trials = Trials()\n",
        "best = fmin(gru, space, algo=tpe.suggest, max_evals=10, trials=trials)"
      ],
      "execution_count": 28,
      "outputs": [
        {
          "output_type": "stream",
          "text": [
            "Params testing: {'activation': 'sigmoid', 'depth': 16, 'dropout_rate': 0.8076078059307501, 'hypersearch': True, 'n_units': 16, 'optimiser': 'adam', 'recurrent_activation': 'elu', 'regulariser': {'l1': 0.0001, 'l2': 0.0001}}\n",
            "  0%|          | 0/10 [00:00<?, ?it/s, best loss: ?]WARNING:tensorflow:From /usr/local/lib/python3.6/dist-packages/keras/backend/tensorflow_backend.py:3445: calling dropout (from tensorflow.python.ops.nn_ops) with keep_prob is deprecated and will be removed in a future version.\n",
            "Instructions for updating:\n",
            "Please use `rate` instead of `keep_prob`. Rate should be set to `rate = 1 - keep_prob`.\n",
            "WARNING:tensorflow:From /usr/local/lib/python3.6/dist-packages/tensorflow/python/ops/math_ops.py:3066: to_int32 (from tensorflow.python.ops.math_ops) is deprecated and will be removed in a future version.\n",
            "Instructions for updating:\n",
            "Use tf.cast instead.\n",
            "\n",
            "Epoch 00033: ReduceLROnPlateau reducing learning rate to 0.00010000000474974513.\n",
            "\n",
            "Epoch 00043: ReduceLROnPlateau reducing learning rate to 1.0000000474974514e-05.\n",
            "\n",
            "Epoch 00053: ReduceLROnPlateau reducing learning rate to 1.0000000656873453e-06.\n",
            "Epoch 00062: early stopping\n",
            "loss: 0.10225101215329062\n",
            "Params testing: {'activation': 'relu', 'depth': 16, 'dropout_rate': 0.7582034811093008, 'hypersearch': True, 'n_units': 16, 'optimiser': 'adam', 'recurrent_activation': 'elu', 'regulariser': {'l1': 0.0, 'l2': 0.0001}}\n",
            "\n",
            "Epoch 00053: ReduceLROnPlateau reducing learning rate to 0.00010000000474974513.\n",
            "\n",
            "Epoch 00065: ReduceLROnPlateau reducing learning rate to 1.0000000474974514e-05.\n",
            "\n",
            "Epoch 00083: ReduceLROnPlateau reducing learning rate to 1.0000000656873453e-06.\n",
            "\n",
            "Epoch 00093: ReduceLROnPlateau reducing learning rate to 1e-06.\n",
            "Epoch 00093: early stopping\n",
            "loss: 0.6142454883782458\n",
            "Params testing: {'activation': 'elu', 'depth': 4, 'dropout_rate': 0.5695440026076588, 'hypersearch': True, 'n_units': 4, 'optimiser': 'adadelta', 'recurrent_activation': 'relu', 'regulariser': {'l1': 0.0001, 'l2': 0.0}}\n",
            "\n",
            "Epoch 00074: ReduceLROnPlateau reducing learning rate to 0.1.\n",
            "\n",
            "Epoch 00084: ReduceLROnPlateau reducing learning rate to 0.010000000149011612.\n",
            "\n",
            "Epoch 00095: ReduceLROnPlateau reducing learning rate to 0.0009999999776482583.\n",
            "\n",
            "Epoch 00105: ReduceLROnPlateau reducing learning rate to 9.999999310821295e-05.\n",
            "Epoch 00105: early stopping\n",
            "loss: 0.17188021440142726\n",
            "Params testing: {'activation': 'tanh', 'depth': 8, 'dropout_rate': 0.595929193680708, 'hypersearch': True, 'n_units': 8, 'optimiser': 'rmsprop', 'recurrent_activation': 'relu', 'regulariser': {'l1': 0.0, 'l2': 0.0001}}\n",
            "\n",
            "Epoch 00045: ReduceLROnPlateau reducing learning rate to 0.00010000000474974513.\n",
            "\n",
            "Epoch 00055: ReduceLROnPlateau reducing learning rate to 1.0000000474974514e-05.\n",
            "\n",
            "Epoch 00074: ReduceLROnPlateau reducing learning rate to 1.0000000656873453e-06.\n",
            "\n",
            "Epoch 00084: ReduceLROnPlateau reducing learning rate to 1e-06.\n",
            "Epoch 00084: early stopping\n",
            "loss: 0.11991662409406217\n",
            "Params testing: {'activation': 'relu', 'depth': 16, 'dropout_rate': 0.5488561292703544, 'hypersearch': True, 'n_units': 16, 'optimiser': 'adadelta', 'recurrent_activation': 'sigmoid', 'regulariser': {'l1': 0.0001, 'l2': 0.0}}\n",
            "\n",
            "Epoch 00036: ReduceLROnPlateau reducing learning rate to 0.1.\n",
            "\n",
            "Epoch 00055: ReduceLROnPlateau reducing learning rate to 0.010000000149011612.\n",
            "\n",
            "Epoch 00065: ReduceLROnPlateau reducing learning rate to 0.0009999999776482583.\n",
            "\n",
            "Epoch 00075: ReduceLROnPlateau reducing learning rate to 9.999999310821295e-05.\n",
            "\n",
            "Epoch 00090: ReduceLROnPlateau reducing learning rate to 9.999999019782991e-06.\n",
            "\n",
            "Epoch 00100: ReduceLROnPlateau reducing learning rate to 1e-06.\n",
            "Epoch 00100: early stopping\n",
            "loss: 0.11937414004294625\n",
            "Params testing: {'activation': 'tanh', 'depth': 4, 'dropout_rate': 0.6326052887670206, 'hypersearch': True, 'n_units': 8, 'optimiser': 'rmsprop', 'recurrent_activation': 'sigmoid', 'regulariser': {'l1': 0.0001, 'l2': 0.0001}}\n",
            "\n",
            "Epoch 00062: ReduceLROnPlateau reducing learning rate to 0.00010000000474974513.\n",
            "\n",
            "Epoch 00078: ReduceLROnPlateau reducing learning rate to 1.0000000474974514e-05.\n",
            "\n",
            "Epoch 00088: ReduceLROnPlateau reducing learning rate to 1.0000000656873453e-06.\n",
            "Epoch 00088: early stopping\n",
            "loss: 0.0814102314957691\n",
            "Params testing: {'activation': 'elu', 'depth': 8, 'dropout_rate': 0.4140679576473067, 'hypersearch': True, 'n_units': 16, 'optimiser': 'adam', 'recurrent_activation': 'sigmoid', 'regulariser': {'l1': 0.0001, 'l2': 0.0}}\n",
            "\n",
            "Epoch 00073: ReduceLROnPlateau reducing learning rate to 0.00010000000474974513.\n",
            "\n",
            "Epoch 00087: ReduceLROnPlateau reducing learning rate to 1.0000000474974514e-05.\n",
            "\n",
            "Epoch 00107: ReduceLROnPlateau reducing learning rate to 1.0000000656873453e-06.\n",
            "\n",
            "Epoch 00117: ReduceLROnPlateau reducing learning rate to 1e-06.\n",
            "Epoch 00117: early stopping\n",
            "loss: 0.260568900101051\n",
            "Params testing: {'activation': 'elu', 'depth': 16, 'dropout_rate': 0.5938420846907229, 'hypersearch': True, 'n_units': 8, 'optimiser': 'rmsprop', 'recurrent_activation': 'hard_sigmoid', 'regulariser': {'l1': 0.0, 'l2': 0.0001}}\n",
            "\n",
            "Epoch 00035: ReduceLROnPlateau reducing learning rate to 0.00010000000474974513.\n",
            "\n",
            "Epoch 00055: ReduceLROnPlateau reducing learning rate to 1.0000000474974514e-05.\n",
            "\n",
            "Epoch 00065: ReduceLROnPlateau reducing learning rate to 1.0000000656873453e-06.\n",
            "\n",
            "Epoch 00081: ReduceLROnPlateau reducing learning rate to 1e-06.\n",
            "Epoch 00091: early stopping\n",
            "loss: 0.17868386127371103\n",
            "Params testing: {'activation': 'sigmoid', 'depth': 8, 'dropout_rate': 0.6128662171728613, 'hypersearch': True, 'n_units': 8, 'optimiser': 'adam', 'recurrent_activation': 'sigmoid', 'regulariser': {'l1': 0.0001, 'l2': 0.0}}\n",
            "\n",
            "Epoch 00043: ReduceLROnPlateau reducing learning rate to 0.00010000000474974513.\n",
            "\n",
            "Epoch 00053: ReduceLROnPlateau reducing learning rate to 1.0000000474974514e-05.\n",
            "Epoch 00053: early stopping\n",
            "loss: 0.2171273655244762\n",
            "Params testing: {'activation': 'elu', 'depth': 16, 'dropout_rate': 0.7357143557667535, 'hypersearch': True, 'n_units': 8, 'optimiser': 'rmsprop', 'recurrent_activation': 'relu', 'regulariser': {'l1': 0.0001, 'l2': 0.0001}}\n",
            "\n",
            "Epoch 00086: ReduceLROnPlateau reducing learning rate to 0.00010000000474974513.\n",
            "\n",
            "Epoch 00096: ReduceLROnPlateau reducing learning rate to 1.0000000474974514e-05.\n",
            "Epoch 00096: early stopping\n",
            "loss: 0.059469100083797244\n",
            "100%|██████████| 10/10 [02:29<00:00, 15.97s/it, best loss: 0.059469100083797244]\n"
          ],
          "name": "stdout"
        }
      ]
    },
    {
      "cell_type": "code",
      "metadata": {
        "id": "mLt2ZYPQqIhE",
        "colab_type": "code",
        "colab": {
          "base_uri": "https://localhost:8080/",
          "height": 136
        },
        "outputId": "4f9b3fea-85a2-41a6-c3f9-c3df7124ab25"
      },
      "source": [
        "from hyperopt import space_eval\n",
        "best_params = space_eval(space, best)\n",
        "best_params.pop('hypersearch')\n",
        "best_params"
      ],
      "execution_count": 29,
      "outputs": [
        {
          "output_type": "execute_result",
          "data": {
            "text/plain": [
              "{'activation': 'elu',\n",
              " 'depth': 16,\n",
              " 'dropout_rate': 0.7357143557667535,\n",
              " 'n_units': 8,\n",
              " 'optimiser': 'rmsprop',\n",
              " 'recurrent_activation': 'relu',\n",
              " 'regulariser': {'l1': 0.0001, 'l2': 0.0001}}"
            ]
          },
          "metadata": {
            "tags": []
          },
          "execution_count": 29
        }
      ]
    },
    {
      "cell_type": "code",
      "metadata": {
        "id": "c_0A3ay9qIhI",
        "colab_type": "code",
        "colab": {
          "base_uri": "https://localhost:8080/",
          "height": 190
        },
        "outputId": "f5d3d093-8fb3-41cd-a335-df8b41189ebe"
      },
      "source": [
        "model = gru(best_params)"
      ],
      "execution_count": 32,
      "outputs": [
        {
          "output_type": "stream",
          "text": [
            "Params testing: {'activation': 'elu', 'depth': 16, 'dropout_rate': 0.7357143557667535, 'n_units': 8, 'optimiser': 'rmsprop', 'recurrent_activation': 'relu', 'regulariser': {'l1': 0.0001, 'l2': 0.0001}}\n",
            "\n",
            "Epoch 00097: ReduceLROnPlateau reducing learning rate to 0.00010000000474974513.\n",
            "\n",
            "Epoch 00107: ReduceLROnPlateau reducing learning rate to 1.0000000474974514e-05.\n",
            "\n",
            "Epoch 00117: ReduceLROnPlateau reducing learning rate to 1.0000000656873453e-06.\n",
            "Epoch 00125: early stopping\n",
            "loss: 0.07468421602527074\n"
          ],
          "name": "stdout"
        }
      ]
    },
    {
      "cell_type": "code",
      "metadata": {
        "_uuid": "95257bdeb4e16b660d5c13fbb12fc42aab945e06",
        "colab_type": "code",
        "id": "Jt1JI3FD8wcS",
        "colab": {
          "base_uri": "https://localhost:8080/",
          "height": 816
        },
        "outputId": "c8b81d68-d740-4996-da69-8894174bf524"
      },
      "source": [
        "train_history = model.fit(X_train, y_train,\n",
        "                          shuffle=False,\n",
        "                          epochs=n_epochs,\n",
        "                          callbacks=callbacks,\n",
        "                          verbose=1)"
      ],
      "execution_count": 33,
      "outputs": [
        {
          "output_type": "stream",
          "text": [
            "Epoch 1/200\n",
            "38/38 [==============================] - 0s 4ms/step - loss: 0.2147\n",
            "Epoch 2/200\n",
            "38/38 [==============================] - 0s 4ms/step - loss: 0.1936\n",
            "Epoch 3/200\n",
            "38/38 [==============================] - 0s 4ms/step - loss: 0.2344\n",
            "Epoch 4/200\n",
            "38/38 [==============================] - 0s 4ms/step - loss: 0.2239\n",
            "Epoch 5/200\n",
            "38/38 [==============================] - 0s 4ms/step - loss: 0.2283\n",
            "Epoch 6/200\n",
            "38/38 [==============================] - 0s 4ms/step - loss: 0.2007\n",
            "Epoch 7/200\n",
            "38/38 [==============================] - 0s 4ms/step - loss: 0.2177\n",
            "Epoch 8/200\n",
            "38/38 [==============================] - 0s 4ms/step - loss: 0.2231\n",
            "Epoch 9/200\n",
            "38/38 [==============================] - 0s 4ms/step - loss: 0.2169\n",
            "Epoch 10/200\n",
            "38/38 [==============================] - 0s 4ms/step - loss: 0.2233\n",
            "Epoch 11/200\n",
            "38/38 [==============================] - 0s 4ms/step - loss: 0.2207\n",
            "Epoch 12/200\n",
            "38/38 [==============================] - 0s 4ms/step - loss: 0.2173\n",
            "\n",
            "Epoch 00012: ReduceLROnPlateau reducing learning rate to 1e-06.\n",
            "Epoch 13/200\n",
            "38/38 [==============================] - 0s 4ms/step - loss: 0.2135\n",
            "Epoch 14/200\n",
            "38/38 [==============================] - 0s 4ms/step - loss: 0.2289\n",
            "Epoch 15/200\n",
            "38/38 [==============================] - 0s 4ms/step - loss: 0.2004\n",
            "Epoch 16/200\n",
            "38/38 [==============================] - 0s 4ms/step - loss: 0.2166\n",
            "Epoch 17/200\n",
            "38/38 [==============================] - 0s 4ms/step - loss: 0.2119\n",
            "Epoch 18/200\n",
            "38/38 [==============================] - 0s 4ms/step - loss: 0.2168\n",
            "Epoch 19/200\n",
            "38/38 [==============================] - 0s 4ms/step - loss: 0.2248\n",
            "Epoch 20/200\n",
            "38/38 [==============================] - 0s 4ms/step - loss: 0.2416\n",
            "Epoch 21/200\n",
            "38/38 [==============================] - 0s 4ms/step - loss: 0.2205\n",
            "Epoch 22/200\n",
            "38/38 [==============================] - 0s 4ms/step - loss: 0.1948\n",
            "Epoch 00022: early stopping\n"
          ],
          "name": "stdout"
        }
      ]
    },
    {
      "cell_type": "code",
      "metadata": {
        "_uuid": "90c447fb72f24a28260ed80b9f5f8e63f123a6f7",
        "colab_type": "code",
        "id": "zhbfAKq98wcT",
        "colab": {}
      },
      "source": [
        "def plot_history(history):\n",
        "    for hist_key in history.history.keys():\n",
        "        plt.plot(history.history[hist_key])\n",
        "        plt.title(f'model {hist_key}')\n",
        "        plt.ylabel(f'{hist_key}')\n",
        "        plt.xlabel('epoch')\n",
        "        plt.legend([k for k in history.history.keys()], loc='upper left')\n",
        "        plt.show()"
      ],
      "execution_count": 0,
      "outputs": []
    },
    {
      "cell_type": "code",
      "metadata": {
        "_uuid": "932478feed1accd2f7f7725dd9dc975653c25dbe",
        "colab_type": "code",
        "id": "s-26z3KX8wcU",
        "colab": {
          "base_uri": "https://localhost:8080/",
          "height": 581
        },
        "outputId": "5899f4b6-e525-465f-d063-ad0e3b5c87da"
      },
      "source": [
        "plot_history(train_history)"
      ],
      "execution_count": 35,
      "outputs": [
        {
          "output_type": "display_data",
          "data": {
            "image/png": "[encoded data removed]",
            "text/plain": [
              "<Figure size 432x288 with 1 Axes>"
            ]
          },
          "metadata": {
            "tags": [],
            "image/png": {
              "width": 402,
              "height": 282
            }
          }
        },
        {
          "output_type": "display_data",
          "data": {
            "image/png": "[encoded data removed]",
            "text/plain": [
              "<Figure size 432x288 with 1 Axes>"
            ]
          },
          "metadata": {
            "tags": [],
            "image/png": {
              "width": 395,
              "height": 282
            }
          }
        }
      ]
    },
    {
      "cell_type": "code",
      "metadata": {
        "id": "48GuYDidqIhT",
        "colab_type": "code",
        "colab": {}
      },
      "source": [
        "y_pred = model.predict(X_val)"
      ],
      "execution_count": 0,
      "outputs": []
    },
    {
      "cell_type": "code",
      "metadata": {
        "_uuid": "4c7c1208d5d51ee455f16bf030dee79f1f67f7d7",
        "colab_type": "code",
        "id": "1xcjpmMB8wcY",
        "colab": {
          "base_uri": "https://localhost:8080/",
          "height": 488
        },
        "outputId": "5d2b6e36-a558-4309-9c07-82c825d68055"
      },
      "source": [
        "fig = plt.figure(figsize=(16,8))\n",
        "ax = fig.add_subplot(111)\n",
        "x = range(len(y_pred))\n",
        "ax.plot(x, y_val, c='orange', label='Target')\n",
        "ax.plot(x, y_pred, c='cyan', label='Prediction')\n",
        "plt.legend(loc='upper left');\n",
        "plt.show()"
      ],
      "execution_count": 37,
      "outputs": [
        {
          "output_type": "display_data",
          "data": {
            "image/png": "[encoded data removed]",
            "text/plain": [
              "<Figure size 1152x576 with 1 Axes>"
            ]
          },
          "metadata": {
            "tags": [],
            "image/png": {
              "width": 937,
              "height": 471
            }
          }
        }
      ]
    },
    {
      "cell_type": "code",
      "metadata": {
        "_uuid": "9384cd96fe0754731f01f0aa86ae3a5b46226b7e",
        "colab_type": "code",
        "id": "eQwut9L48wca",
        "colab": {
          "base_uri": "https://localhost:8080/",
          "height": 34
        },
        "outputId": "d9ce44f6-c957-4e10-a77f-7c21dc8e83bf"
      },
      "source": [
        "np.sqrt(mse(y_val, y_pred))"
      ],
      "execution_count": 38,
      "outputs": [
        {
          "output_type": "execute_result",
          "data": {
            "text/plain": [
              "0.2500248711552198"
            ]
          },
          "metadata": {
            "tags": []
          },
          "execution_count": 38
        }
      ]
    },
    {
      "cell_type": "code",
      "metadata": {
        "id": "pxrVQ1kQqIhY",
        "colab_type": "code",
        "colab": {}
      },
      "source": [
        ""
      ],
      "execution_count": 0,
      "outputs": []
    }
  ]
}